{
 "cells": [
  {
   "cell_type": "code",
   "execution_count": 14,
   "metadata": {},
   "outputs": [],
   "source": [
    "import pandas as pd\n",
    "import logging\n",
    "import numpy as np\n",
    "from icecream import ic\n",
    "from itertools import product\n",
    "from geopy.distance import geodesic\n",
    "\n",
    "\n",
    "logging.basicConfig(level=logging.DEBUG)"
   ]
  },
  {
   "cell_type": "code",
   "execution_count": 15,
   "metadata": {},
   "outputs": [],
   "source": [
    "PATH = \"./cities/\"\n",
    "INSTANCE = \"italy.csv\""
   ]
  },
  {
   "cell_type": "code",
   "execution_count": 16,
   "metadata": {},
   "outputs": [],
   "source": [
    "cities = pd.read_csv(f\"{PATH}{INSTANCE}\", header=None, names=[\"City\", \"lat\", \"long\"])\n",
    "#cities"
   ]
  },
  {
   "cell_type": "code",
   "execution_count": 17,
   "metadata": {},
   "outputs": [],
   "source": [
    "#show only first column\n",
    "cities_names = np.array([c['City'] for _,c in cities.iterrows()])\n",
    "#cities_names"
   ]
  },
  {
   "cell_type": "code",
   "execution_count": 18,
   "metadata": {},
   "outputs": [],
   "source": [
    "coordinates = cities[[\"lat\",\"long\"]].to_numpy()\n",
    "#coordinates"
   ]
  },
  {
   "cell_type": "markdown",
   "metadata": {},
   "source": [
    "## Helper funciton"
   ]
  },
  {
   "cell_type": "code",
   "execution_count": 19,
   "metadata": {},
   "outputs": [],
   "source": [
    "\n",
    "def distance(c1,c2):\n",
    "    return geodesic(c1,c2).km\n",
    "\n",
    "#distance(coordinates[0],coordinates[1])\n"
   ]
  },
  {
   "cell_type": "code",
   "execution_count": 20,
   "metadata": {},
   "outputs": [],
   "source": [
    "dist_matrix = np.array([[distance(c1,c2) for c1 in coordinates] for c2 in coordinates])\n"
   ]
  },
  {
   "cell_type": "code",
   "execution_count": 21,
   "metadata": {},
   "outputs": [],
   "source": [
    "def tsp_cost(tsp):\n",
    "    ic(tsp[0], tsp[-1])\n",
    "    assert tsp[0] == tsp[-1]\n",
    "    assert set(tsp) == set(range(len(cities)))\n",
    "\n",
    "    tot_cost = 0\n",
    "    for c1, c2 in zip(tsp, tsp[1:]):\n",
    "        tot_cost += dist_matrix[c1, c2]\n",
    "    return tot_cost"
   ]
  },
  {
   "cell_type": "code",
   "execution_count": 22,
   "metadata": {},
   "outputs": [],
   "source": [
    "def greedy_tsp():\n",
    "    visited = [False]*len(coordinates)\n",
    "    dist = dist_matrix.copy()\n",
    "\n",
    "    city = 0\n",
    "    tsp = list()\n",
    "    #ic(dist)\n",
    "    tsp.append(city)\n",
    "\n",
    "    while not np.all(visited):\n",
    "        min_dist = np.inf\n",
    "        next_city = None\n",
    "        for i in range(len(coordinates)):\n",
    "            if not visited[i] and dist[city][i] < min_dist and i != city:\n",
    "                next_city = i\n",
    "                min_dist = dist[city][i]\n",
    "        visited[next_city] = True\n",
    "        tsp.append(next_city)\n",
    "        #ic(\"visiting city: \", cities_names[city])\n",
    "       # logging.debug(\n",
    "           # f\"step: {cities_names[city]} -> {cities_names[next_city]} ({min_dist:.2f}km)\")\n",
    "        city = next_city\n",
    "        \n",
    "                \n",
    "\n",
    "    tsp\n",
    "    tot_cost = 0\n",
    "   # for c1, c2 in zip(tsp, tsp[1:]):\n",
    "    #    tot_cost += dist_matrix[c1, c2]\n",
    "    #logging.info(f\"result: Found a path of {len(tsp)-1} steps, total length {tot_cost:.2f}km\")  \n",
    "    return tsp"
   ]
  },
  {
   "cell_type": "markdown",
   "metadata": {},
   "source": [
    "## Greedy with random starting point"
   ]
  },
  {
   "cell_type": "code",
   "execution_count": null,
   "metadata": {},
   "outputs": [],
   "source": [
    "def greedy_tsp_random_start(start):\n",
    "    visited = [False]*len(coordinates)\n",
    "    dist = dist_matrix.copy()\n",
    "\n",
    "    city = start\n",
    "    tsp = list()\n",
    "    #ic(dist)\n",
    "    tsp.append(city)\n",
    "\n",
    "    while not np.all(visited):\n",
    "        dist[:, city] = np.inf\n",
    "        closest = np.argmin(dist[city])\n",
    "        logging.debug(\n",
    "            f\"step: {cities_names[city]} -> {cities_names[closest]} ({dist[city,closest]:.2f}km)\")\n",
    "       \n",
    "        visited[closest] = True\n",
    "        city = closest\n",
    "        tsp.append(int(city))\n",
    "  \n",
    "        # logging.debug(\n",
    "        #     f\"step: {cities_names[tsp[-1]]} -> {cities_names[tsp[0]]} ({tsp[-1], tsp[0]:.2f}km)\")\n",
    "    tsp.append(tsp[0])\n",
    "    \n",
    "                \n",
    "\n",
    "    tsp\n",
    "    tot_cost = 0\n",
    "   # for c1, c2 in zip(tsp, tsp[1:]):\n",
    "    #    tot_cost += dist_matrix[c1, c2]\n",
    "    #logging.info(f\"result: Found a path of {len(tsp)-1} steps, total length {tot_cost:.2f}km\")  \n",
    "    return tsp"
   ]
  },
  {
   "cell_type": "code",
   "execution_count": 28,
   "metadata": {},
   "outputs": [
    {
     "name": "stderr",
     "output_type": "stream",
     "text": [
      "DEBUG:root:step: Andria -> Bari (50.18km)\n"
     ]
    },
    {
     "ename": "TypeError",
     "evalue": "unsupported format string passed to tuple.__format__",
     "output_type": "error",
     "traceback": [
      "\u001b[1;31m---------------------------------------------------------------------------\u001b[0m",
      "\u001b[1;31mTypeError\u001b[0m                                 Traceback (most recent call last)",
      "Cell \u001b[1;32mIn[28], line 1\u001b[0m\n\u001b[1;32m----> 1\u001b[0m \u001b[43mgreedy_tsp_random_start\u001b[49m\u001b[43m(\u001b[49m\u001b[38;5;241;43m1\u001b[39;49m\u001b[43m)\u001b[49m\n",
      "Cell \u001b[1;32mIn[27], line 21\u001b[0m, in \u001b[0;36mgreedy_tsp_random_start\u001b[1;34m(start)\u001b[0m\n\u001b[0;32m     17\u001b[0m     city \u001b[38;5;241m=\u001b[39m closest\n\u001b[0;32m     18\u001b[0m     tsp\u001b[38;5;241m.\u001b[39mappend(\u001b[38;5;28mint\u001b[39m(city))\n\u001b[0;32m     20\u001b[0m     logging\u001b[38;5;241m.\u001b[39mdebug(\n\u001b[1;32m---> 21\u001b[0m         \u001b[38;5;124mf\u001b[39m\u001b[38;5;124m\"\u001b[39m\u001b[38;5;124mstep: \u001b[39m\u001b[38;5;132;01m{\u001b[39;00mcities_names[tsp[\u001b[38;5;241m-\u001b[39m\u001b[38;5;241m1\u001b[39m]]\u001b[38;5;132;01m}\u001b[39;00m\u001b[38;5;124m -> \u001b[39m\u001b[38;5;132;01m{\u001b[39;00mcities_names[tsp[\u001b[38;5;241m0\u001b[39m]]\u001b[38;5;132;01m}\u001b[39;00m\u001b[38;5;124m (\u001b[39m\u001b[38;5;132;43;01m{\u001b[39;49;00m\u001b[43mtsp\u001b[49m\u001b[43m[\u001b[49m\u001b[38;5;241;43m-\u001b[39;49m\u001b[38;5;241;43m1\u001b[39;49m\u001b[43m]\u001b[49m\u001b[43m,\u001b[49m\u001b[38;5;250;43m \u001b[39;49m\u001b[43mtsp\u001b[49m\u001b[43m[\u001b[49m\u001b[38;5;241;43m0\u001b[39;49m\u001b[43m]\u001b[49m\u001b[38;5;132;43;01m:\u001b[39;49;00m\u001b[38;5;124;43m.2f\u001b[39;49m\u001b[38;5;132;43;01m}\u001b[39;49;00m\u001b[38;5;124mkm)\u001b[39m\u001b[38;5;124m\"\u001b[39m)\n\u001b[0;32m     22\u001b[0m tsp\u001b[38;5;241m.\u001b[39mappend(tsp[\u001b[38;5;241m0\u001b[39m])\n\u001b[0;32m     26\u001b[0m tsp\n",
      "\u001b[1;31mTypeError\u001b[0m: unsupported format string passed to tuple.__format__"
     ]
    }
   ],
   "source": [
    "greedy_tsp_random_start(1)"
   ]
  },
  {
   "cell_type": "code",
   "execution_count": null,
   "metadata": {},
   "outputs": [],
   "source": [
    "for i in range(len(cities)):\n",
    "    initial_sol = greedy_tsp_random_start(i)\n",
    "    initial_cost = tsp_cost(initial_sol)\n",
    "    logging.info(f\"initial_sol: {initial_sol}\")\n",
    "    logging.info(f\"initial_cost: {initial_cost}\")\n"
   ]
  },
  {
   "cell_type": "markdown",
   "metadata": {},
   "source": [
    "## gready + hill climber"
   ]
  },
  {
   "cell_type": "code",
   "execution_count": null,
   "metadata": {},
   "outputs": [],
   "source": [
    "initial_sol = greedy_tsp()\n",
    "initial_cost = tsp_cost(initial_sol)\n",
    "#ic(initial_sol)\n",
    "#ic(initial_cost)\n",
    "\n",
    "\n",
    "max_steps = 1000\n",
    "\n",
    "# for i in range(max_steps):\n",
    "#     new_sol = initial_sol.copy()\n",
    "#     a,b = np.random.choice(len(new_sol), 2, replace=False)\n",
    "   \n",
    "#     new_sol[a], new_sol[b] = new_sol[b], new_sol[a]\n",
    "#     if (initial_cost > tsp_cost(new_sol)):\n",
    "#         initial_sol = new_sol\n",
    "#         initial_cost = tsp_cost(new_sol)\n",
    "#         logging.info(f\"step {i+1}: {cities_names[initial_sol[0]]} -> {cities_names[initial_sol[-1]]} ({initial_cost:.2f}km)\")\n",
    "\n",
    "logging.info(f\"result: Found a path of {len(initial_sol)-1} steps, total length {initial_cost:.2f}km\")\n"
   ]
  }
 ],
 "metadata": {
  "kernelspec": {
   "display_name": "venv",
   "language": "python",
   "name": "python3"
  },
  "language_info": {
   "codemirror_mode": {
    "name": "ipython",
    "version": 3
   },
   "file_extension": ".py",
   "mimetype": "text/x-python",
   "name": "python",
   "nbconvert_exporter": "python",
   "pygments_lexer": "ipython3",
   "version": "3.12.7"
  }
 },
 "nbformat": 4,
 "nbformat_minor": 2
}
