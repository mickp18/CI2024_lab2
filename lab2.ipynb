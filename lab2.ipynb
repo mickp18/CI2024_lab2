{
 "cells": [
  {
   "cell_type": "code",
   "execution_count": 51,
   "metadata": {},
   "outputs": [],
   "source": [
    "import pandas as pd\n",
    "import logging\n",
    "import numpy as np\n",
    "from icecream import ic\n",
    "from itertools import product\n",
    "from geopy.distance import geodesic\n",
    "from dataclasses import dataclass\n",
    "import functools\n",
    "import random\n",
    "from tqdm import tqdm\n",
    "\n",
    "logging.basicConfig(level=logging.DEBUG)"
   ]
  },
  {
   "cell_type": "code",
   "execution_count": 52,
   "metadata": {},
   "outputs": [],
   "source": [
    "PATH = \"./cities/\"\n",
    "INSTANCE = \"russia.csv\""
   ]
  },
  {
   "cell_type": "code",
   "execution_count": 53,
   "metadata": {},
   "outputs": [],
   "source": [
    "cities = pd.read_csv(f\"{PATH}{INSTANCE}\", header=None, names=[\"City\", \"lat\", \"long\"])\n",
    "#cities"
   ]
  },
  {
   "cell_type": "code",
   "execution_count": 54,
   "metadata": {},
   "outputs": [],
   "source": [
    "#show only first column\n",
    "cities_names = np.array([c['City'] for _,c in cities.iterrows()])\n",
    "#cities_names"
   ]
  },
  {
   "cell_type": "code",
   "execution_count": 55,
   "metadata": {},
   "outputs": [],
   "source": [
    "coordinates = cities[[\"lat\",\"long\"]].to_numpy()\n",
    "#coordinates"
   ]
  },
  {
   "cell_type": "markdown",
   "metadata": {},
   "source": [
    "## Helper funciton"
   ]
  },
  {
   "cell_type": "code",
   "execution_count": 56,
   "metadata": {},
   "outputs": [],
   "source": [
    "def distance(c1,c2):\n",
    "    return geodesic(c1,c2).km\n",
    "\n",
    "#distance(coordinates[0],coordinates[1])"
   ]
  },
  {
   "cell_type": "code",
   "execution_count": 57,
   "metadata": {},
   "outputs": [],
   "source": [
    "dist_matrix = np.array([[distance(c1,c2) for c1 in coordinates] for c2 in coordinates])"
   ]
  },
  {
   "cell_type": "code",
   "execution_count": 58,
   "metadata": {},
   "outputs": [],
   "source": [
    "def counter(fn):\n",
    "    \"\"\"Simple decorator for counting number of calls\"\"\"\n",
    "\n",
    "    @functools.wraps(fn)\n",
    "    def helper(*args, **kargs):\n",
    "        helper.calls += 1\n",
    "        return fn(*args, **kargs)\n",
    "\n",
    "    helper.calls = 0\n",
    "    return helper\n",
    "\n",
    "\n",
    "@counter\n",
    "def tsp_cost(tsp):\n",
    "#    ic(tsp[0], tsp[-1])\n",
    "#    assert tsp[0] == tsp[-1]\n",
    "#    assert set(tsp) == set(range(len(cities)))\n",
    "\n",
    "    tot_cost = 0\n",
    "    for c1, c2 in zip(tsp, tsp[1:]):\n",
    "        tot_cost += dist_matrix[c1, c2]\n",
    "    return tot_cost"
   ]
  },
  {
   "cell_type": "code",
   "execution_count": 59,
   "metadata": {},
   "outputs": [],
   "source": [
    "def greedy_tsp():\n",
    "    visited = [False]*len(coordinates)\n",
    "    dist = dist_matrix.copy()\n",
    "\n",
    "    city = 0\n",
    "    tsp = list()\n",
    "    #ic(dist)\n",
    "    tsp.append(city)\n",
    "\n",
    "    while not np.all(visited):\n",
    "        min_dist = np.inf\n",
    "        next_city = None\n",
    "        for i in range(len(coordinates)):\n",
    "            if not visited[i] and dist[city][i] < min_dist and i != city:\n",
    "                next_city = i\n",
    "                min_dist = dist[city][i]\n",
    "        visited[next_city] = True\n",
    "        tsp.append(next_city)\n",
    "        #ic(\"visiting city: \", cities_names[city])\n",
    "       # logging.debug(\n",
    "           # f\"step: {cities_names[city]} -> {cities_names[next_city]} ({min_dist:.2f}km)\")\n",
    "        city = next_city\n",
    "        \n",
    "                \n",
    "\n",
    "    tot_cost = 0\n",
    "   # for c1, c2 in zip(tsp, tsp[1:]):\n",
    "    #    tot_cost += dist_matrix[c1, c2]\n",
    "    #logging.info(f\"result: Found a path of {len(tsp)-1} steps, total length {tot_cost:.2f}km\")  \n",
    "    return tsp"
   ]
  },
  {
   "cell_type": "markdown",
   "metadata": {},
   "source": [
    "## Greedy with random starting point"
   ]
  },
  {
   "cell_type": "code",
   "execution_count": 60,
   "metadata": {},
   "outputs": [],
   "source": [
    "def greedy_tsp_random_start(start):\n",
    "    visited = [False]*len(coordinates)\n",
    "    dist = dist_matrix.copy()\n",
    "\n",
    "    city = start\n",
    "    visited[city] = True\n",
    "\n",
    "    tsp = list()\n",
    "    #ic(dist)\n",
    "    tsp.append(city)\n",
    "\n",
    "    while not np.all(visited):\n",
    "        dist[:, city] = np.inf\n",
    "        closest = np.argmin(dist[city])\n",
    "        # logging.debug(\n",
    "        #     f\"step: {cities_names[city]} -> {cities_names[closest]} ({dist[city,closest]:.2f}km)\")\n",
    "       \n",
    "        visited[closest] = True\n",
    "        city = closest\n",
    "        tsp.append(int(city))\n",
    "  \n",
    "    # logging.debug(\n",
    "    #     f\"step: {cities_names[tsp[-1]]} -> {cities_names[tsp[0]]} ({dist[tsp[0],tsp[-1]]:.2f}km)\")\n",
    "    tsp.append(tsp[0])\n",
    "    \n",
    "            \n",
    "    tot_cost =tsp_cost(tsp)\n",
    "    #logging.info(f\"result: Found a path of {len(tsp)-1} steps, total length {tot_cost:.2f}km\")  \n",
    "    return tsp"
   ]
  },
  {
   "cell_type": "code",
   "execution_count": 61,
   "metadata": {},
   "outputs": [
    {
     "data": {
      "text/plain": [
       "' best_sol = -1\\nbest_cost = np.inf\\n\\nfor i in range(len(cities)):\\n    sol = greedy_tsp_random_start(i)\\n    cost = tsp_cost(sol)\\n    # logging.info(f\"initial_sol: {sol}\")\\n    # logging.info(f\"initial_cost: {cost}\")\\n    if cost < best_cost:\\n        best_sol = sol\\n        best_cost = cost\\n\\nlogging.info(f\"best_sol: {best_sol}\")\\nlogging.info(f\"best_cost: {best_cost}\") '"
      ]
     },
     "execution_count": 61,
     "metadata": {},
     "output_type": "execute_result"
    }
   ],
   "source": [
    "\"\"\" best_sol = -1\n",
    "best_cost = np.inf\n",
    "\n",
    "for i in range(len(cities)):\n",
    "    sol = greedy_tsp_random_start(i)\n",
    "    cost = tsp_cost(sol)\n",
    "    # logging.info(f\"initial_sol: {sol}\")\n",
    "    # logging.info(f\"initial_cost: {cost}\")\n",
    "    if cost < best_cost:\n",
    "        best_sol = sol\n",
    "        best_cost = cost\n",
    "\n",
    "logging.info(f\"best_sol: {best_sol}\")\n",
    "logging.info(f\"best_cost: {best_cost}\") \"\"\""
   ]
  },
  {
   "cell_type": "markdown",
   "metadata": {},
   "source": [
    "## gready + EA"
   ]
  },
  {
   "cell_type": "markdown",
   "metadata": {},
   "source": [
    "### helper functions"
   ]
  },
  {
   "cell_type": "code",
   "execution_count": 62,
   "metadata": {},
   "outputs": [],
   "source": [
    "@dataclass\n",
    "class Individual:\n",
    "    genome: np.ndarray\n",
    "    fitness: float = None\n",
    "\n",
    "def fitness(individual):\n",
    "    return  -float(tsp_cost(individual.genome))\n",
    "\n",
    "def parent_selection(population):\n",
    "    candidates = sorted(np.random.choice(population, 2), key=lambda e: e.fitness, reverse=True)\n",
    "    return candidates[0]\n"
   ]
  },
  {
   "cell_type": "code",
   "execution_count": 63,
   "metadata": {},
   "outputs": [],
   "source": [
    "def pmover(p1, p2):\n",
    "    i1 = np.random.randint(len(p1))\n",
    "    i2 = np.random.randint(len(p1))\n",
    "        # i1 = 3\n",
    "    # i2 = 6\n",
    "    while i1 == i2:\n",
    "        i2 = np.random.randint(len(p1))\n",
    "  #  ic(i1, i2)\n",
    "\n",
    "    if i1 > i2:\n",
    "        i1, i2 = i2, i1\n",
    " \n",
    "\n",
    "    o1 = p1.copy()\n",
    "    o2 = p2.copy()\n",
    "    o1[i1:i2] = p2[i1:i2]\n",
    "    o2[i1:i2] = p1[i1:i2]\n",
    "\n",
    "    for i in range(0, i1):\n",
    "        while o1[i] in o1[i1:i2]:\n",
    "            o1[i] = p1[p2.index(o1[i])]\n",
    "        while o2[i] in o2[i1:i2]:\n",
    "            o2[i] = p2[p1.index(o2[i])]\n",
    "\n",
    "    for i in range(i2, len(o1)):\n",
    "        while o1[i] in o1[i1:i2]:\n",
    "            o1[i] = p1[p2.index(o1[i])]\n",
    "        while o2[i] in o2[i1:i2]:\n",
    "            o2[i] = p2[p1.index(o2[i])]\n",
    "    \n",
    "   # ic(p1,p2)\n",
    "   # ic(o1,o2)\n",
    "    return o1, o2\n",
    "\n",
    "def pmover_2(p1, p2):\n",
    "    # Randomly select two indices and sort them to define the crossover segment\n",
    "    i1, i2 = sorted(np.random.choice(len(p1), 2, replace=False))\n",
    "\n",
    "    # Create copies for the offspring\n",
    "    o1, o2 = p1.copy(), p2.copy()\n",
    "\n",
    "    # Perform crossover in the segment between i1 and i2\n",
    "    o1[i1:i2], o2[i1:i2] = p2[i1:i2], p1[i1:i2]\n",
    "\n",
    "    # Create maps to track replacements for each offspring\n",
    "    map_o1, map_o2 = {}, {}\n",
    "\n",
    "    # Initialize mapping dictionaries for the crossover segment\n",
    "    for i in range(i1, i2):\n",
    "        map_o1[p2[i]] = p1[i]\n",
    "        map_o2[p1[i]] = p2[i]\n",
    "\n",
    "    # Function to trace mappings to avoid duplicates\n",
    "    def resolve_conflict(value, mapping):\n",
    "        while value in mapping:\n",
    "            value = mapping[value]\n",
    "        return value\n",
    "\n",
    "    # Resolve conflicts for elements outside the crossover segment\n",
    "    for i in range(len(p1)):\n",
    "        if i < i1 or i >= i2:  # Only for elements outside the crossover\n",
    "            o1[i] = resolve_conflict(o1[i], map_o1)\n",
    "            o2[i] = resolve_conflict(o2[i], map_o2)\n",
    "\n",
    "    return o1, o2"
   ]
  },
  {
   "cell_type": "code",
   "execution_count": null,
   "metadata": {},
   "outputs": [],
   "source": [
    "test1 = greedy_tsp_random_start(0)\n",
    "test2 = greedy_tsp_random_start(1)\n",
    "for i in range(1000):\n",
    "    test1, test2 = pmover(test1, test2)\n"
   ]
  },
  {
   "cell_type": "code",
   "execution_count": null,
   "metadata": {},
   "outputs": [],
   "source": [
    "test1 = greedy_tsp_random_start(0)\n",
    "test2 = greedy_tsp_random_start(1)\n",
    "for i in range(1000):\n",
    "    test1, test2 = pmover_2(test1, test2)\n"
   ]
  },
  {
   "cell_type": "code",
   "execution_count": 64,
   "metadata": {},
   "outputs": [],
   "source": [
    "def inv_mutation(individual):\n",
    "    mutated_genome = individual.genome[:-1]\n",
    " \n",
    "     # Select two random indices for the inversion segment\n",
    "    i, j = sorted(np.random.randint(0, len(individual.genome), 2))\n",
    "    while i == j:\n",
    "        i, j = sorted(np.random.randint(0, len(individual.genome), 2))\n",
    "   # ic(i, j)\n",
    "    mutated_genome[i:j+1] = mutated_genome[i:j+1][::-1]\n",
    "\n",
    "    return mutated_genome\n",
    "    \n",
    "def generate_individuals(parent:Individual)->Individual:\n",
    "    new_genome = random.sample(parent.genome[:-1],len(parent.genome[:-1]))\n",
    "    new_genome.append(new_genome[0])\n",
    "    return Individual(new_genome)"
   ]
  },
  {
   "cell_type": "markdown",
   "metadata": {},
   "source": [
    "### inverse mutation or partially mapped crossover"
   ]
  },
  {
   "cell_type": "code",
   "execution_count": 65,
   "metadata": {},
   "outputs": [
    {
     "data": {
      "text/plain": [
       "' POPULATION_SIZE = int( len(cities)*1.5)\\npopulation = list()\\n\\n# generate random initial individual using a greedy starting from a random city\\ninitial_individual = Individual(greedy_tsp_random_start(np.random.randint(0, len(cities))))\\n#initial_individual = Individual(greedy_tsp())\\nic(tsp_cost(initial_individual.genome))\\n\\n# generate random initial population starting from the initial individual\\npopulation = [generate_individuals(initial_individual) for _ in range(POPULATION_SIZE-1)]\\n# add the initial individual\\npopulation.append(initial_individual)\\n\\n\\npopulation.sort(key=lambda i: tsp_cost(i.genome))\\nic(tsp_cost(population[0].genome))\\n\\n\\nfor i in population:\\n    i.fitness = -tsp_cost(i.genome)\\n    \\n\\nOFFSPRING_SIZE = int(POPULATION_SIZE*0.25)\\nMAX_GENERATIONS = 10000\\n\\nfor g in tqdm(range(MAX_GENERATIONS)):\\n    offspring = list()\\n    for _ in range(OFFSPRING_SIZE):\\n\\n        if np.random.random() < 0.5:\\n            p = parent_selection(population)\\n            o = inv_mutation(p)\\n            o.append(o[0])\\n            o = Individual(o)            \\n            offspring.append(o)\\n            \\n        else :\\n\\n            p1 = parent_selection(population)\\n            p2 = parent_selection(population)\\n\\n            o1,o2 = pmover(p1.genome[:-1], p2.genome[:-1])\\n\\n            o1.append(o1[0])\\n            o2.append(o2[0])\\n\\n            o1,o2 = Individual(o1), Individual(o2)\\n\\n            offspring.append(o1)\\n            offspring.append(o2)\\n\\n    for i in offspring:\\n        i.fitness = fitness(i)\\n\\n    population.extend(offspring)\\n    population.sort(key=lambda i: i.fitness, reverse=True)\\n    population = population[:POPULATION_SIZE]\\n\\n\\nfor i in population:\\n    #add last one\\n    i.genome = np.append(i.genome, i.genome[0])\\n    i.fitness = -tsp_cost(i.genome)\\n\\npopulation.sort(key=lambda i: i.fitness, reverse=True)\\nic(-population[0].fitness, tsp_cost.calls) '"
      ]
     },
     "execution_count": 65,
     "metadata": {},
     "output_type": "execute_result"
    }
   ],
   "source": [
    "\"\"\" POPULATION_SIZE = int( len(cities)*1.5)\n",
    "population = list()\n",
    "\n",
    "# generate random initial individual using a greedy starting from a random city\n",
    "initial_individual = Individual(greedy_tsp_random_start(np.random.randint(0, len(cities))))\n",
    "#initial_individual = Individual(greedy_tsp())\n",
    "ic(tsp_cost(initial_individual.genome))\n",
    "\n",
    "# generate random initial population starting from the initial individual\n",
    "population = [generate_individuals(initial_individual) for _ in range(POPULATION_SIZE-1)]\n",
    "# add the initial individual\n",
    "population.append(initial_individual)\n",
    "\n",
    "\n",
    "population.sort(key=lambda i: tsp_cost(i.genome))\n",
    "ic(tsp_cost(population[0].genome))\n",
    "\n",
    "\n",
    "for i in population:\n",
    "    i.fitness = -tsp_cost(i.genome)\n",
    "    \n",
    "\n",
    "OFFSPRING_SIZE = int(POPULATION_SIZE*0.25)\n",
    "MAX_GENERATIONS = 10000\n",
    "\n",
    "for g in tqdm(range(MAX_GENERATIONS)):\n",
    "    offspring = list()\n",
    "    for _ in range(OFFSPRING_SIZE):\n",
    "\n",
    "        if np.random.random() < 0.5:\n",
    "            p = parent_selection(population)\n",
    "            o = inv_mutation(p)\n",
    "            o.append(o[0])\n",
    "            o = Individual(o)            \n",
    "            offspring.append(o)\n",
    "            \n",
    "        else :\n",
    "\n",
    "            p1 = parent_selection(population)\n",
    "            p2 = parent_selection(population)\n",
    "\n",
    "            o1,o2 = pmover(p1.genome[:-1], p2.genome[:-1])\n",
    "\n",
    "            o1.append(o1[0])\n",
    "            o2.append(o2[0])\n",
    "\n",
    "            o1,o2 = Individual(o1), Individual(o2)\n",
    "\n",
    "            offspring.append(o1)\n",
    "            offspring.append(o2)\n",
    "\n",
    "    for i in offspring:\n",
    "        i.fitness = fitness(i)\n",
    "\n",
    "    population.extend(offspring)\n",
    "    population.sort(key=lambda i: i.fitness, reverse=True)\n",
    "    population = population[:POPULATION_SIZE]\n",
    "\n",
    "\n",
    "for i in population:\n",
    "    #add last one\n",
    "    i.genome = np.append(i.genome, i.genome[0])\n",
    "    i.fitness = -tsp_cost(i.genome)\n",
    "\n",
    "population.sort(key=lambda i: i.fitness, reverse=True)\n",
    "ic(-population[0].fitness, tsp_cost.calls) \"\"\""
   ]
  },
  {
   "cell_type": "markdown",
   "metadata": {},
   "source": [
    "### inverse mutation + partially mapped crossover"
   ]
  },
  {
   "cell_type": "code",
   "execution_count": 66,
   "metadata": {},
   "outputs": [
    {
     "name": "stderr",
     "output_type": "stream",
     "text": [
      "ic| tsp_cost(initial_individual.genome): np.float64(45201.66805065893)\n",
      "ic| tsp_cost(population[0].genome): np.float64(45201.66805065893)\n",
      "100%|██████████| 10000/10000 [05:50<00:00, 28.55it/s]\n",
      "ic| -population[0].fitness: np.float64(35094.55710687571)\n",
      "    tsp_cost.calls: 1240753\n"
     ]
    },
    {
     "data": {
      "text/plain": [
       "(np.float64(35094.55710687571), 1240753)"
      ]
     },
     "execution_count": 66,
     "metadata": {},
     "output_type": "execute_result"
    }
   ],
   "source": [
    "POPULATION_SIZE = int( len(cities)*1.5)\n",
    "population = list()\n",
    "\n",
    "# generate random initial individual using a greedy starting from a random city\n",
    "initial_individual = Individual(greedy_tsp_random_start(np.random.randint(0, len(cities))))\n",
    "#initial_individual = Individual(greedy_tsp())\n",
    "ic(tsp_cost(initial_individual.genome))\n",
    "\n",
    "# generate random initial population starting from the initial individual\n",
    "population = [generate_individuals(initial_individual) for _ in range(POPULATION_SIZE-1)]\n",
    "# add the initial individual\n",
    "population.append(initial_individual)\n",
    "\n",
    "\n",
    "population.sort(key=lambda i: tsp_cost(i.genome))\n",
    "ic(tsp_cost(population[0].genome))\n",
    "\n",
    "\n",
    "for i in population:\n",
    "    i.fitness = -tsp_cost(i.genome)\n",
    "    \n",
    "\n",
    "OFFSPRING_SIZE = int(POPULATION_SIZE*0.25)\n",
    "MAX_GENERATIONS = 10_000\n",
    "\n",
    "for g in tqdm(range(MAX_GENERATIONS)):\n",
    "    offspring = list()\n",
    "    for _ in range(OFFSPRING_SIZE):\n",
    "\n",
    "        \"\"\"if np.random.random() < 0.5:\n",
    "            p = parent_selection(population)\n",
    "            o = inv_mutation(p)\n",
    "            o.append(o[0])\n",
    "            o = Individual(o)            \n",
    "            offspring.append(o)\n",
    "            \n",
    "        else : \"\"\"\n",
    "\n",
    "        p1 = parent_selection(population)\n",
    "        p2 = parent_selection(population)\n",
    "        \n",
    "        inv_p1 = inv_mutation(p1)\n",
    "        inv_p1.append(inv_p1[0])\n",
    "        inv_p2 = inv_mutation(p2)\n",
    "        inv_p2.append(inv_p2[0])\n",
    "        \n",
    "        o1,o2 = pmover_2(inv_p1[:-1], inv_p2[:-1])\n",
    "\n",
    "#        o1,o2 = pmover(p1.genome[:-1], p2.genome[:-1])\n",
    "        o1.append(o1[0])\n",
    "        o2.append(o2[0])\n",
    "\n",
    "        o1,o2 = Individual(o1), Individual(o2)\n",
    "\n",
    "        offspring.append(o1)\n",
    "        offspring.append(o2)\n",
    "\n",
    "    for i in offspring:\n",
    "        i.fitness = fitness(i)\n",
    "        # ic(i.genome)\n",
    "        # ic(i.fitness)\n",
    "\n",
    "    population.extend(offspring)\n",
    "    population.sort(key=lambda i: i.fitness, reverse=True)\n",
    "    population = population[:POPULATION_SIZE]\n",
    "#    ic(\"best sol: \",-population[0].fitness)\n",
    "\n",
    "\n",
    "\n",
    "for i in population:\n",
    "    #add last one\n",
    "    i.genome = np.append(i.genome, i.genome[0])\n",
    "    i.fitness = -tsp_cost(i.genome)\n",
    "\n",
    "population.sort(key=lambda i: i.fitness, reverse=True)\n",
    "ic(-population[0].fitness, tsp_cost.calls)"
   ]
  }
 ],
 "metadata": {
  "kernelspec": {
   "display_name": "venv",
   "language": "python",
   "name": "python3"
  },
  "language_info": {
   "codemirror_mode": {
    "name": "ipython",
    "version": 3
   },
   "file_extension": ".py",
   "mimetype": "text/x-python",
   "name": "python",
   "nbconvert_exporter": "python",
   "pygments_lexer": "ipython3",
   "version": "3.12.7"
  }
 },
 "nbformat": 4,
 "nbformat_minor": 2
}
