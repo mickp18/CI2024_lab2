{
 "cells": [
  {
   "cell_type": "code",
   "execution_count": null,
   "metadata": {},
   "outputs": [],
   "source": [
    "import pandas as pd\n",
    "import logging\n",
    "import numpy as np\n",
    "from icecream import ic\n",
    "from itertools import product\n",
    "from geopy.distance import geodesic\n",
    "from dataclasses import dataclass\n",
    "import functools\n",
    "\n",
    "\n",
    "logging.basicConfig(level=logging.DEBUG)"
   ]
  },
  {
   "cell_type": "code",
   "execution_count": null,
   "metadata": {},
   "outputs": [],
   "source": [
    "PATH = \"./cities/\"\n",
    "INSTANCE = \"italy.csv\""
   ]
  },
  {
   "cell_type": "code",
   "execution_count": null,
   "metadata": {},
   "outputs": [],
   "source": [
    "cities = pd.read_csv(f\"{PATH}{INSTANCE}\", header=None, names=[\"City\", \"lat\", \"long\"])\n",
    "#cities"
   ]
  },
  {
   "cell_type": "code",
   "execution_count": null,
   "metadata": {},
   "outputs": [],
   "source": [
    "#show only first column\n",
    "cities_names = np.array([c['City'] for _,c in cities.iterrows()])\n",
    "#cities_names"
   ]
  },
  {
   "cell_type": "code",
   "execution_count": null,
   "metadata": {},
   "outputs": [],
   "source": [
    "coordinates = cities[[\"lat\",\"long\"]].to_numpy()\n",
    "#coordinates"
   ]
  },
  {
   "cell_type": "markdown",
   "metadata": {},
   "source": [
    "## Helper funciton"
   ]
  },
  {
   "cell_type": "code",
   "execution_count": null,
   "metadata": {},
   "outputs": [],
   "source": [
    "def distance(c1,c2):\n",
    "    return geodesic(c1,c2).km\n",
    "\n",
    "#distance(coordinates[0],coordinates[1])"
   ]
  },
  {
   "cell_type": "code",
   "execution_count": null,
   "metadata": {},
   "outputs": [],
   "source": [
    "dist_matrix = np.array([[distance(c1,c2) for c1 in coordinates] for c2 in coordinates])"
   ]
  },
  {
   "cell_type": "code",
   "execution_count": null,
   "metadata": {},
   "outputs": [],
   "source": [
    "def counter(fn):\n",
    "    \"\"\"Simple decorator for counting number of calls\"\"\"\n",
    "\n",
    "    @functools.wraps(fn)\n",
    "    def helper(*args, **kargs):\n",
    "        helper.calls += 1\n",
    "        return fn(*args, **kargs)\n",
    "\n",
    "    helper.calls = 0\n",
    "    return helper\n",
    "\n",
    "\n",
    "@counter\n",
    "def tsp_cost(tsp):\n",
    "#    ic(tsp[0], tsp[-1])\n",
    "#    assert tsp[0] == tsp[-1]\n",
    "#    assert set(tsp) == set(range(len(cities)))\n",
    "\n",
    "    tot_cost = 0\n",
    "    for c1, c2 in zip(tsp, tsp[1:]):\n",
    "        tot_cost += dist_matrix[c1, c2]\n",
    "    return tot_cost"
   ]
  },
  {
   "cell_type": "code",
   "execution_count": null,
   "metadata": {},
   "outputs": [],
   "source": [
    "def greedy_tsp():\n",
    "    visited = [False]*len(coordinates)\n",
    "    dist = dist_matrix.copy()\n",
    "\n",
    "    city = 0\n",
    "    tsp = list()\n",
    "    #ic(dist)\n",
    "    tsp.append(city)\n",
    "\n",
    "    while not np.all(visited):\n",
    "        min_dist = np.inf\n",
    "        next_city = None\n",
    "        for i in range(len(coordinates)):\n",
    "            if not visited[i] and dist[city][i] < min_dist and i != city:\n",
    "                next_city = i\n",
    "                min_dist = dist[city][i]\n",
    "        visited[next_city] = True\n",
    "        tsp.append(next_city)\n",
    "        #ic(\"visiting city: \", cities_names[city])\n",
    "       # logging.debug(\n",
    "           # f\"step: {cities_names[city]} -> {cities_names[next_city]} ({min_dist:.2f}km)\")\n",
    "        city = next_city\n",
    "        \n",
    "                \n",
    "\n",
    "    tot_cost = 0\n",
    "   # for c1, c2 in zip(tsp, tsp[1:]):\n",
    "    #    tot_cost += dist_matrix[c1, c2]\n",
    "    #logging.info(f\"result: Found a path of {len(tsp)-1} steps, total length {tot_cost:.2f}km\")  \n",
    "    return tsp"
   ]
  },
  {
   "cell_type": "markdown",
   "metadata": {},
   "source": [
    "## Greedy with random starting point"
   ]
  },
  {
   "cell_type": "code",
   "execution_count": null,
   "metadata": {},
   "outputs": [],
   "source": [
    "def greedy_tsp_random_start(start):\n",
    "    visited = [False]*len(coordinates)\n",
    "    dist = dist_matrix.copy()\n",
    "\n",
    "    city = start\n",
    "    visited[city] = True\n",
    "\n",
    "    tsp = list()\n",
    "    #ic(dist)\n",
    "    tsp.append(city)\n",
    "\n",
    "    while not np.all(visited):\n",
    "        dist[:, city] = np.inf\n",
    "        closest = np.argmin(dist[city])\n",
    "        # logging.debug(\n",
    "        #     f\"step: {cities_names[city]} -> {cities_names[closest]} ({dist[city,closest]:.2f}km)\")\n",
    "       \n",
    "        visited[closest] = True\n",
    "        city = closest\n",
    "        tsp.append(int(city))\n",
    "  \n",
    "    # logging.debug(\n",
    "    #     f\"step: {cities_names[tsp[-1]]} -> {cities_names[tsp[0]]} ({dist[tsp[0],tsp[-1]]:.2f}km)\")\n",
    "    tsp.append(tsp[0])\n",
    "    \n",
    "            \n",
    "    tot_cost =tsp_cost(tsp)\n",
    "    #logging.info(f\"result: Found a path of {len(tsp)-1} steps, total length {tot_cost:.2f}km\")  \n",
    "    return tsp"
   ]
  },
  {
   "cell_type": "code",
   "execution_count": null,
   "metadata": {},
   "outputs": [],
   "source": [
    "\"\"\" best_sol = -1\n",
    "best_cost = np.inf\n",
    "\n",
    "for i in range(len(cities)):\n",
    "    sol = greedy_tsp_random_start(i)\n",
    "    cost = tsp_cost(sol)\n",
    "    # logging.info(f\"initial_sol: {sol}\")\n",
    "    # logging.info(f\"initial_cost: {cost}\")\n",
    "    if cost < best_cost:\n",
    "        best_sol = sol\n",
    "        best_cost = cost\n",
    "\n",
    "logging.info(f\"best_sol: {best_sol}\")\n",
    "logging.info(f\"best_cost: {best_cost}\") \"\"\""
   ]
  },
  {
   "cell_type": "markdown",
   "metadata": {},
   "source": [
    "## gready + EA"
   ]
  },
  {
   "cell_type": "markdown",
   "metadata": {},
   "source": [
    "### helper functions"
   ]
  },
  {
   "cell_type": "code",
   "execution_count": null,
   "metadata": {},
   "outputs": [],
   "source": [
    "@dataclass\n",
    "class Individual:\n",
    "    genome: np.ndarray\n",
    "    fitness: float = None\n",
    "\n",
    "def fitness(individual):\n",
    "    return  -float(tsp_cost(individual.genome))\n",
    "\n",
    "def parent_selection(population):\n",
    "    candidates = sorted(np.random.choice(population, 2), key=lambda e: e.fitness, reverse=True)\n",
    "    return candidates[0]\n"
   ]
  },
  {
   "cell_type": "code",
   "execution_count": null,
   "metadata": {},
   "outputs": [],
   "source": [
    "def pmover(p1, p2):\n",
    "    i1 = np.random.randint(len(p1))\n",
    "    i2 = np.random.randint(len(p1))\n",
    "        # i1 = 3\n",
    "    # i2 = 6\n",
    "    while i1 == i2:\n",
    "        i2 = np.random.randint(len(p1))\n",
    "  #  ic(i1, i2)\n",
    "\n",
    "    if i1 > i2:\n",
    "        i1, i2 = i2, i1\n",
    " \n",
    "\n",
    "    o1 = p1.copy()\n",
    "    o2 = p2.copy()\n",
    "    o1[i1:i2] = p2[i1:i2]\n",
    "    o2[i1:i2] = p1[i1:i2]\n",
    "\n",
    "    for i in range(0, i1):\n",
    "        while o1[i] in o1[i1:i2]:\n",
    "            o1[i] = p1[p2.index(o1[i])]\n",
    "        while o2[i] in o2[i1:i2]:\n",
    "            o2[i] = p2[p1.index(o2[i])]\n",
    "\n",
    "    for i in range(i2, len(o1)):\n",
    "        while o1[i] in o1[i1:i2]:\n",
    "            o1[i] = p1[p2.index(o1[i])]\n",
    "        while o2[i] in o2[i1:i2]:\n",
    "            o2[i] = p2[p1.index(o2[i])]\n",
    "    \n",
    "   # ic(p1,p2)\n",
    "   # ic(o1,o2)\n",
    "    return o1, o2\n",
    "\n",
    "# p1 = [1, 2, 3, 4, 5, 6 ,7, 8]\n",
    "# p2 = [3, 7, 5, 1, 6, 8, 2, 4]\n",
    "# # p1 = np.ndarray(p1)\n",
    "# # p2 = np.ndarray(p2)\n",
    "# o1,o2 = pmover(p1, p2)\n",
    "# ic(o1)\n",
    "# ic(o2)"
   ]
  },
  {
   "cell_type": "code",
   "execution_count": 297,
   "metadata": {},
   "outputs": [],
   "source": [
    "def inv_mutation(individual):\n",
    "    mutated_genome = individual.genome.copy()\n",
    " \n",
    "     # Select two random indices for the inversion segment\n",
    "    i, j = sorted(np.random.randint(0, len(individual.genome), 2))\n",
    "    while i == j:\n",
    "        i, j = sorted(np.random.randint(0, len(individual.genome), 2))\n",
    "   # ic(i, j)\n",
    "    mutated_genome[i:j+1] = mutated_genome[i:j+1][::-1]\n",
    "\n",
    "    return mutated_genome\n",
    "    \n"
   ]
  },
  {
   "cell_type": "code",
   "execution_count": null,
   "metadata": {},
   "outputs": [
    {
     "name": "stderr",
     "output_type": "stream",
     "text": [
      "ic| tsp_cost(population[0].genome): np.float64(4436.03176952516)\n",
      "ic| -population[0].fitness: np.float64(4350.277436006993)\n",
      "    tsp_cost.calls: 2304332\n"
     ]
    },
    {
     "data": {
      "text/plain": [
       "(np.float64(4350.277436006993), 2304332)"
      ]
     },
     "execution_count": 304,
     "metadata": {},
     "output_type": "execute_result"
    }
   ],
   "source": [
    "POPULATION_SIZE = 100\n",
    "population = [Individual(greedy_tsp_random_start(np.random.randint(len(cities)))) for _ in range(POPULATION_SIZE)]\n",
    "population.sort(key=lambda i: tsp_cost(i.genome))\n",
    "ic(tsp_cost(population[0].genome))\n",
    "\n",
    "\n",
    "for i in population:\n",
    "    #remove last one\n",
    "    i.genome = i.genome[:-1]\n",
    "    i.fitness = -tsp_cost(i.genome)\n",
    "    \n",
    "\n",
    "OFFSPRING_SIZE = 10\n",
    "MAX_GENERATIONS = 10_000\n",
    "\n",
    "for g in range(MAX_GENERATIONS):\n",
    "    offspring = list()\n",
    "    for _ in range(OFFSPRING_SIZE):\n",
    "        # HYPERMODERN\n",
    "        if np.random.random() < 0.3:\n",
    "            p = parent_selection(population)\n",
    "            o = inv_mutation(p)\n",
    "            o = Individual(o)\n",
    "            offspring.append(o)\n",
    "            \n",
    "        else :\n",
    "            p1 = parent_selection(population)\n",
    "            p2 = parent_selection(population)\n",
    "            o1,o2 = pmover(p1.genome, p2.genome)\n",
    "            o1,o2 = Individual(o1), Individual(o2)\n",
    "        \n",
    "            offspring.append(o1)\n",
    "            offspring.append(o2)\n",
    "\n",
    "    for i in offspring:\n",
    "        i.fitness = fitness(i)\n",
    "        # ic(i.genome)\n",
    "        # ic(i.fitness)\n",
    "\n",
    "    population.extend(offspring)\n",
    "#    ic(-population[0].fitness)\n",
    " #   ic(-population[-1].fitness)\n",
    "    population.sort(key=lambda i: i.fitness, reverse=True)\n",
    "    population = population[:POPULATION_SIZE]\n",
    "  #  ic(-population[0].fitness)\n",
    "   # ic(-population[-1].fitness)\n",
    "\n",
    "\n",
    "for i in population:\n",
    "    #add last one\n",
    "    i.genome = np.append(i.genome, i.genome[0])\n",
    "    i.fitness = -tsp_cost(i.genome)\n",
    "\n",
    "population.sort(key=lambda i: i.fitness, reverse=True)\n",
    "ic(-population[0].fitness, tsp_cost.calls)"
   ]
  }
 ],
 "metadata": {
  "kernelspec": {
   "display_name": "venv",
   "language": "python",
   "name": "python3"
  },
  "language_info": {
   "codemirror_mode": {
    "name": "ipython",
    "version": 3
   },
   "file_extension": ".py",
   "mimetype": "text/x-python",
   "name": "python",
   "nbconvert_exporter": "python",
   "pygments_lexer": "ipython3",
   "version": "3.12.7"
  }
 },
 "nbformat": 4,
 "nbformat_minor": 2
}
